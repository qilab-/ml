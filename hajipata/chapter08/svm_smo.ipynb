{
 "cells": [
  {
   "cell_type": "markdown",
   "metadata": {},
   "source": [
    "# Support Vector Machine with Sequential Minimal Optimization"
   ]
  },
  {
   "cell_type": "markdown",
   "metadata": {},
   "source": [
    "## References\n",
    "\n",
    "* original paper: [Sequential Minimal Optimization: A Fast Algorithm for Training Support Vector Machines (1998)](http://citeseerx.ist.psu.edu/viewdoc/summary?doi=10.1.1.43.4376)"
   ]
  },
  {
   "cell_type": "code",
   "execution_count": 1,
   "metadata": {
    "collapsed": true
   },
   "outputs": [],
   "source": [
    "import numpy as np\n",
    "from matplotlib import pyplot as plt\n",
    "from sklearn.datasets import load_iris"
   ]
  },
  {
   "cell_type": "code",
   "execution_count": 2,
   "metadata": {
    "collapsed": true
   },
   "outputs": [],
   "source": [
    "def takeStep(i1, i2, X, y, alphaList, C, kernel, epsilon):\n",
    "    if (i1 == i2):\n",
    "        return False\n",
    "    alpha_1 = alphaList[i1]\n",
    "    alpha_2 = alphaList[i2]\n",
    "    y_1 = y[i1]\n",
    "    y_2 = y[i2]\n",
    "    x_1 = X[i1]\n",
    "    x_2 = X[i2]\n",
    "    w = np.dot(y * alphaList, X) # w.size == X.shape[1]\n",
    "    bList = np.dot(w.T, X.T) - y\n",
    "    bList = bList[alphaList > epsilon]\n",
    "    b = np.mean(bList)\n",
    "    # check eq (10)\n",
    "    E_1 = (np.dot(w, x_1) - b) - y_1\n",
    "    E_2 = (np.dot(w, x_2) - b) - y_2\n",
    "    s = y_1 * y_2\n",
    "    #\n",
    "    L = 0\n",
    "    H = 0\n",
    "    if (y_1 != y_2):\n",
    "        L = max(0, alpha_2 - alpha_1)\n",
    "        H = min(C, C + alpha_2 - alpha_1)\n",
    "    else:\n",
    "        L = max(0, alpha_2 + alpha_1 - C)\n",
    "        H = min(C, alpha_2 + alpha_1)\n",
    "    if (L == H):\n",
    "        return False\n",
    "    eta = kernel(x_1, x_1) + kernel(x_2, x_2) - 2 * kernel(x_1, x_2)\n",
    "    alpha_2_new_clipped = 0\n",
    "    if (eta > 0):\n",
    "        alpha_2_new = alpha_2 + y_2 * (E_1 - E_2) / eta\n",
    "        alpha_2_new_clipped = alpha_2_new\n",
    "        if (alpha_2_new >= H):\n",
    "            alpha_2_new_clipped = H\n",
    "        elif (alpha_2_new <= L):\n",
    "            alpha_2_new_clipped = L\n",
    "    else:\n",
    "        print(\"TODO\")\n",
    "        return False\n",
    "    if (np.abs(alpha_2_new_clipped - alpha_2) < epsilon * (alpha_2_new_clipped + alpha_2 + epsilon)):\n",
    "        return False\n",
    "    alpha_1_new = alpha_1 + s * (alpha_2 - alpha_2_new_clipped)\n",
    "    #\n",
    "    alphaList[i1] = alpha_1_new\n",
    "    alphaList[i2] = alpha_2_new_clipped\n",
    "    return True"
   ]
  },
  {
   "cell_type": "code",
   "execution_count": 3,
   "metadata": {
    "collapsed": true
   },
   "outputs": [],
   "source": [
    "def examineExample(i2, X, y, alphaList, C, kernel, epsilon):\n",
    "    alpha_2 = alphaList[i2]\n",
    "    y_2 = y[i2]\n",
    "    x_2 = X[i2]\n",
    "    w = np.dot(y * alphaList, X) # w.size == X.shape[1]\n",
    "    bList = np.dot(w.T, X.T) - y\n",
    "    bList = bList[alphaList > epsilon]\n",
    "    b = np.mean(bList)\n",
    "    E_2 = (np.dot(w, x_2) - b) - y_2\n",
    "    r_2 = E_2 * y_2\n",
    "    # TODO\n",
    "    indeces = np.arange(y.size)\n",
    "    np.random.shuffle(indeces)\n",
    "    for i1 in indeces:\n",
    "        if (takeStep(i1, i2, X, y, alphaList, C, kernel, epsilon)):\n",
    "            return 1\n",
    "    return 0"
   ]
  },
  {
   "cell_type": "code",
   "execution_count": 4,
   "metadata": {
    "collapsed": true
   },
   "outputs": [],
   "source": [
    "def load_data():\n",
    "    iris = load_iris()\n",
    "    X = iris.data[:100, :2]\n",
    "    y = iris.target[:100]\n",
    "    y[np.where(y == 0)] = -1\n",
    "    return X, y"
   ]
  },
  {
   "cell_type": "code",
   "execution_count": 5,
   "metadata": {
    "collapsed": true
   },
   "outputs": [],
   "source": [
    "def plot_scatter_2d(x, y, i, j, feature_names = []):\n",
    "    plt.clf()\n",
    "    for k in np.unique(y):\n",
    "        x_k = x[np.argwhere(y == k).flatten()]\n",
    "        plt.scatter(x_k[:, i], x_k[:, j])\n",
    "    if feature_names != []:\n",
    "        plt.xlabel(feature_names[i])\n",
    "        plt.ylabel(feature_names[j])\n",
    "    plt.show()"
   ]
  },
  {
   "cell_type": "code",
   "execution_count": 6,
   "metadata": {},
   "outputs": [],
   "source": [
    "def plot_with_line(x, y, i, j, x1_list, x2_list, feature_names = []):\n",
    "    plt.clf()\n",
    "    plt.plot(x1_list, x2_list, \"black\")\n",
    "    for k in np.unique(y):\n",
    "        x_k = x[np.argwhere(y == k).flatten()]\n",
    "        plt.scatter(x_k[:, i], x_k[:, j])\n",
    "    if feature_names != []:\n",
    "        plt.xlabel(feature_names[i])\n",
    "        plt.ylabel(feature_names[j])\n",
    "    plt.show()"
   ]
  },
  {
   "cell_type": "code",
   "execution_count": 7,
   "metadata": {
    "collapsed": true
   },
   "outputs": [],
   "source": [
    "def linear_kernel(x1, x2):\n",
    "    return np.dot(x1, x2)"
   ]
  },
  {
   "cell_type": "code",
   "execution_count": 8,
   "metadata": {},
   "outputs": [
    {
     "name": "stdout",
     "output_type": "stream",
     "text": [
      "27\n",
      "[  0.00000000e+00   1.16817447e+01   0.00000000e+00   0.00000000e+00\n",
      "   0.00000000e+00   0.00000000e+00   0.00000000e+00   0.00000000e+00\n",
      "   0.00000000e+00   0.00000000e+00   0.00000000e+00   0.00000000e+00\n",
      "   0.00000000e+00   0.00000000e+00   1.04950770e-16   0.00000000e+00\n",
      "   0.00000000e+00   0.00000000e+00   0.00000000e+00   0.00000000e+00\n",
      "   0.00000000e+00   0.00000000e+00   0.00000000e+00   0.00000000e+00\n",
      "   0.00000000e+00   0.00000000e+00   1.38777878e-16   0.00000000e+00\n",
      "   0.00000000e+00   1.11862121e+01   0.00000000e+00   0.00000000e+00\n",
      "   0.00000000e+00   0.00000000e+00   0.00000000e+00   0.00000000e+00\n",
      "   3.44470386e-01   0.00000000e+00   0.00000000e+00   0.00000000e+00]\n",
      "[ 2.8567878 -3.8090504]\n",
      "[ 3.57110902  3.57086049  3.57086049]\n"
     ]
    },
    {
     "data": {
      "image/png": "[encoded data removed]",
      "text/plain": [
       "<matplotlib.figure.Figure at 0x1a155eaa20>"
      ]
     },
     "metadata": {},
     "output_type": "display_data"
    },
    {
     "name": "stdout",
     "output_type": "stream",
     "text": [
      "end\n"
     ]
    }
   ],
   "source": [
    "X, y = load_data()\n",
    "X = np.r_[X[0:20, :], X[50:70, :]]\n",
    "y = np.r_[y[0:20], y[50:70]]\n",
    "\n",
    "\n",
    "n = y.size\n",
    "alphaList = np.random.rand(n)\n",
    "C = 1000\n",
    "epsilon = 1e-3\n",
    "\n",
    "numChanged = 0\n",
    "examineAll = True\n",
    "\n",
    "count = 0\n",
    "\n",
    "while (numChanged > 0 or examineAll):\n",
    "    count += 1\n",
    "    numChanged = 0\n",
    "    if (examineAll):\n",
    "        for i in range(n):\n",
    "            i2 = i\n",
    "            numChanged += examineExample(i2, X, y, alphaList, C, linear_kernel, epsilon)\n",
    "    else:\n",
    "        for i in range(n):\n",
    "            alpha_i = alphaList[i]\n",
    "            if (alpha_i != 0 and alpha_i != C):\n",
    "                i2 = i\n",
    "                numChanged += examineExample(i2, X, y, alphaList, C, linear_kernel, epsilon)\n",
    "    if (examineAll):\n",
    "        examineAll = False\n",
    "    elif (numChanged == 0):\n",
    "        examineAll = True\n",
    "\n",
    "print(count)\n",
    "print(alphaList)\n",
    "\n",
    "w = np.dot(y * alphaList, X)\n",
    "bList = np.dot(w.T, X.T) - y\n",
    "bList = bList[alphaList > epsilon]\n",
    "print(w)\n",
    "print(bList)\n",
    "b = np.mean(bList)\n",
    "x1_list = np.arange(4, 7, 0.02)\n",
    "x2_list = x1_list * -w[0] / w[1] + b / w[1]\n",
    "x2_support_top_list = x1_list * -w[0] / w[1] + (b + 1) / w[1]\n",
    "x2_support_bottom_list = x1_list * -w[0] / w[1] + (b - 1) / w[1]\n",
    "\n",
    "plt.clf()\n",
    "plt.plot(x1_list, x2_list, \"black\")\n",
    "plt.plot(x1_list, x2_support_top_list, \"red\")\n",
    "plt.plot(x1_list, x2_support_bottom_list, \"red\")\n",
    "for k in np.unique(y):\n",
    "    x_k = X[np.argwhere(y == k).flatten()]\n",
    "    plt.scatter(x_k[:, 0], x_k[:, 1])\n",
    "plt.show()\n",
    "print(\"end\")"
   ]
  }
 ],
 "metadata": {
  "kernelspec": {
   "display_name": "Python 3",
   "language": "python",
   "name": "python3"
  },
  "language_info": {
   "codemirror_mode": {
    "name": "ipython",
    "version": 3
   },
   "file_extension": ".py",
   "mimetype": "text/x-python",
   "name": "python",
   "nbconvert_exporter": "python",
   "pygments_lexer": "ipython3",
   "version": "3.6.2"
  }
 },
 "nbformat": 4,
 "nbformat_minor": 2
}
