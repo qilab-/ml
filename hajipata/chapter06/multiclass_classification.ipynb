{
 "cells": [
  {
   "cell_type": "markdown",
   "metadata": {},
   "source": [
    "# multiclass classification\n"
   ]
  },
  {
   "cell_type": "code",
   "execution_count": 235,
   "metadata": {
    "collapsed": true
   },
   "outputs": [],
   "source": [
    "import numpy as np\n",
    "from matplotlib import pyplot as plt\n",
    "from sklearn.datasets import load_iris"
   ]
  },
  {
   "cell_type": "code",
   "execution_count": 234,
   "metadata": {
    "collapsed": true
   },
   "outputs": [],
   "source": [
    "def softmax(v):\n",
    "    return np.exp(v) / np.sum(np.exp(v))"
   ]
  },
  {
   "cell_type": "code",
   "execution_count": 356,
   "metadata": {
    "collapsed": true
   },
   "outputs": [],
   "source": [
    "# y: vector\n",
    "def one_hot_encoder(y):\n",
    "    num_data = y.size\n",
    "    num_class = np.max(y) + 1\n",
    "    Y_one_hot = np.zeros((num_data, num_class))\n",
    "    Y_one_hot[np.arange(num_data), y] = 1\n",
    "    return (Y_one_hot, num_class)"
   ]
  },
  {
   "cell_type": "code",
   "execution_count": 233,
   "metadata": {
    "collapsed": true
   },
   "outputs": [],
   "source": [
    "# scalar\n",
    "def cost(X, Y, W):\n",
    "    wx = np.dot(W, X.T) # k x m\n",
    "    normal_each_example = sum(np.exp(wx)) # 1 x m\n",
    "    hot_wx = wx * Y.T # k x m\n",
    "    numerators = sum(np.exp(hot_wx)) # 1 x m\n",
    "    pi_of_hot_class = numerators / normal_each_example # 1 x m\n",
    "    return -sum(np.log(pi_of_hot_class))\n",
    "\n",
    "def cost_2(X, Y, W):\n",
    "    wx = np.dot(W, X.T) # k x m\n",
    "    e1 = -np.sum(wx * Y.T) # scalar\n",
    "    s_each_example = np.sum(np.exp(wx), axis = 0) # 1 x m\n",
    "    e2 = +sum(np.log(s_each_example)) # scalar\n",
    "    return e1 + e2"
   ]
  },
  {
   "cell_type": "code",
   "execution_count": 257,
   "metadata": {
    "collapsed": true
   },
   "outputs": [],
   "source": [
    "# matrix, its dimension = dim W (k x (n + 1))\n",
    "def grad_cost(X, Y, W):\n",
    "    wx = np.dot(W, X.T) # k x m\n",
    "    exp_wx = np.exp(wx) # k x m\n",
    "    normal_each_example = sum(exp_wx) # 1 x m\n",
    "    pi_matrix = exp_wx / normal_each_example # k x m, columnwise div\n",
    "    return np.dot((pi_matrix - Y.T), X)"
   ]
  },
  {
   "cell_type": "code",
   "execution_count": 322,
   "metadata": {
    "collapsed": true
   },
   "outputs": [],
   "source": [
    "def gradient_decent(X, Y, W, cost_func, grad_cost_func, step, alpha, epsilon):\n",
    "    costList = []\n",
    "    accuracyList = []\n",
    "    for i in range(step):\n",
    "        costList.append(cost_func(X, Y, W))\n",
    "        accuracyList.append(accuracy(X, Y, W, classify))\n",
    "        grad = grad_cost_func(X, Y, W)\n",
    "        W = W - alpha * grad\n",
    "    plt.plot(costList)\n",
    "    plt.show()\n",
    "    plt.plot(accuracyList)\n",
    "    plt.show()\n",
    "    return W"
   ]
  },
  {
   "cell_type": "code",
   "execution_count": 236,
   "metadata": {
    "collapsed": true
   },
   "outputs": [],
   "source": [
    "def classify(W, X):\n",
    "    wx = np.dot(X, W.T) # m x k\n",
    "    return np.argmax(wx, axis = 1) # m x 1"
   ]
  },
  {
   "cell_type": "code",
   "execution_count": 237,
   "metadata": {
    "collapsed": true
   },
   "outputs": [],
   "source": [
    "# x: examples\n",
    "# y: classes\n",
    "def plot_scatter_2d(x, y, i, j, feature_names = []):\n",
    "    for k in np.unique(y):\n",
    "        x_k = x[np.argwhere(y == k).flatten()]\n",
    "        plt.scatter(x_k[:, i], x_k[:, j])\n",
    "    if feature_names != []:\n",
    "        plt.xlabel(feature_names[i])\n",
    "        plt.ylabel(feature_names[j])\n",
    "    plt.show()"
   ]
  },
  {
   "cell_type": "code",
   "execution_count": 287,
   "metadata": {
    "collapsed": true
   },
   "outputs": [],
   "source": [
    "def divide_training_test_data(X, Y, training_data_rate):\n",
    "    y = np.argmax(Y, axis = 1)\n",
    "    (num_data, num_feature) = X.shape\n",
    "    num_class = np.unique(y).size\n",
    "    sort_indeces = np.arange(num_data)\n",
    "    np.random.shuffle(sort_indeces)\n",
    "    X_sorted = X[sort_indeces]\n",
    "    Y_sorted = Y[sort_indeces]\n",
    "    y_sorted = y[sort_indeces]\n",
    "    X_train = np.empty((0, num_feature))\n",
    "    Y_train = np.empty((0, num_class))\n",
    "    X_test = np.empty((0, num_feature))\n",
    "    Y_test = np.empty((0, num_class))\n",
    "    for k in np.unique(y):\n",
    "        indeces_k = np.argwhere(y == k).flatten()\n",
    "        num_data_k = indeces_k.size\n",
    "        X_k = X_sorted[indeces_k]\n",
    "        Y_k = Y_sorted[indeces_k]\n",
    "        num_train_data_k = np.floor(num_data_k * training_data_rate).astype(int)\n",
    "        X_train = np.append(X_train, X_k[:num_train_data_k, :], axis = 0)\n",
    "        Y_train = np.append(Y_train, Y_k[:num_train_data_k, :], axis = 0)\n",
    "        X_test = np.append(X_test, X_k[num_train_data_k:, :], axis = 0)\n",
    "        Y_test = np.append(Y_test, Y_k[num_train_data_k:, :], axis = 0)\n",
    "    return (X_train, Y_train, X_test, Y_test)"
   ]
  },
  {
   "cell_type": "code",
   "execution_count": 305,
   "metadata": {
    "collapsed": true
   },
   "outputs": [],
   "source": [
    "def accuracy(X, Y, W, classify_func):\n",
    "    classified = classify_func(W, X)\n",
    "    is_true_list = classified == np.argmax(Y, axis = 1)\n",
    "    return np.argwhere(is_true_list).size / is_true_list.size"
   ]
  },
  {
   "cell_type": "code",
   "execution_count": 346,
   "metadata": {
    "collapsed": true
   },
   "outputs": [],
   "source": [
    "def normalize(X):\n",
    "    (num_data, num_feature) = X.shape\n",
    "    mu_X = sum(X) / num_data\n",
    "    sigma_X = sum((X - mu_X) ** 2) / num_data\n",
    "    return (X - mu_X) / sigma_X"
   ]
  },
  {
   "cell_type": "code",
   "execution_count": 367,
   "metadata": {},
   "outputs": [
    {
     "data": {
      "image/png": "[encoded data removed]",
      "text/plain": [
       "<matplotlib.figure.Figure at 0x1a156e87b8>"
      ]
     },
     "metadata": {},
     "output_type": "display_data"
    },
    {
     "data": {
      "image/png": "[encoded data removed]",
      "text/plain": [
       "<matplotlib.figure.Figure at 0x1a15a5c3c8>"
      ]
     },
     "metadata": {},
     "output_type": "display_data"
    },
    {
     "name": "stdout",
     "output_type": "stream",
     "text": [
      "=========================\n",
      "number of examples: m = 150\n",
      "number of features: n = 1\n",
      "number of classes: k = 3\n",
      "accuracy of training data: 0.7333333333333333\n",
      "accuracy of test data: 0.6333333333333333\n"
     ]
    }
   ],
   "source": [
    "# n: number of features\n",
    "# m: number of examples\n",
    "# k: number of classes\n",
    "# X: m x (n + 1) matrix, each row is an example data, first column is bias (= 1)\n",
    "# Y: m x k matrix\n",
    "# W: k x (n + 1) matrix, parameters we want to know\n",
    "\n",
    "\n",
    "iris = load_iris()\n",
    "x = iris.data\n",
    "y = iris.target\n",
    "\n",
    "(m, n) = x.shape\n",
    "\n",
    "#plot_scatter_2d(x, y, 2, 3, feature_names = iris.feature_names)\n",
    "\n",
    "X = np.c_[np.ones((m, 1)), x]\n",
    "#X = np.c_[np.ones((m, 1)), normalize(x)]\n",
    "(Y, k) = one_hot_encoder(y)\n",
    "\n",
    "# initial parameters\n",
    "W = np.random.rand(k, n + 1) / 10\n",
    "\n",
    "training_data_rate = 0.8\n",
    "(X_train, Y_train, X_test, Y_test) = divide_training_test_data(X, Y, training_data_rate)\n",
    "\n",
    "W = gradient_decent(X_train, Y_train, W, cost_func = cost, grad_cost_func = grad_cost, step = 1000, alpha = 0.0005, epsilon = 0)\n",
    "\n",
    "accuracy_train = accuracy(X_train, Y_train, W, classify)\n",
    "accuracy_test = accuracy(X_test, Y_test, W, classify)\n",
    "\n",
    "print(\"=========================\")\n",
    "print(\"number of examples: m = {}\".format(m))\n",
    "print(\"number of features: n = {}\".format(n))\n",
    "print(\"number of classes: k = {}\".format(k))\n",
    "print(\"accuracy of training data: {}\".format(accuracy_train))\n",
    "print(\"accuracy of test data: {}\".format(accuracy_test))"
   ]
  }
 ],
 "metadata": {
  "kernelspec": {
   "display_name": "Python 3",
   "language": "python",
   "name": "python3"
  },
  "language_info": {
   "codemirror_mode": {
    "name": "ipython",
    "version": 3
   },
   "file_extension": ".py",
   "mimetype": "text/x-python",
   "name": "python",
   "nbconvert_exporter": "python",
   "pygments_lexer": "ipython3",
   "version": "3.6.2"
  }
 },
 "nbformat": 4,
 "nbformat_minor": 2
}
